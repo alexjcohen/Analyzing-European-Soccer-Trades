{
 "cells": [
  {
   "cell_type": "markdown",
   "metadata": {},
   "source": [
    "# Web-Scraping Soccer Data\n",
    "### Getting tranfers\n",
    "\n",
    "In this section, we will use [Soccernews](https://www.soccernews.com/soccer-transfers/) to gather the list of all the trades between our 4 leagues and create a dataframe for use in our analysis"
   ]
  },
  {
   "cell_type": "code",
   "execution_count": 1,
   "metadata": {},
   "outputs": [],
   "source": [
    "# Import packages\n",
    "from bs4 import BeautifulSoup\n",
    "import requests\n",
    "import pandas as pd\n",
    "import numpy as np\n",
    "import re"
   ]
  },
  {
   "cell_type": "code",
   "execution_count": 2,
   "metadata": {},
   "outputs": [],
   "source": [
    "# create our function to fetch our data\n",
    "def fetch_data(url, lg, yr, df, cols):\n",
    "    \n",
    "    # get all our table rows from the passed url\n",
    "    html = requests.get(url)\n",
    "    soup = BeautifulSoup(html.text, 'html.parser')\n",
    "    rows = soup.find('tbody').find_all('tr')    \n",
    "    \n",
    "    # for each row, get the desired HTML tags and their text (which is miscelaneous information \n",
    "    # about each trade)\n",
    "    \n",
    "    for row in rows[1:]:\n",
    "        date = row.find(class_ = 'date').text\n",
    "        name = row.find(class_ = 'player-deals').find('h4').text\n",
    "        pos = row.find(class_ = 'player-deals').find('p').text\n",
    "        country = row.find('img')['title']\n",
    "        price = row.find(class_ = 'price-status').text\n",
    "        fromtrade = row.find_all('td', attrs = {'class': None})[0].text\n",
    "        totrade = row.find_all('td', attrs = {'class': None})[1].text\n",
    "        temp = pd.DataFrame(data = [[date, name, pos, country, price, fromtrade, totrade, lg,\\\n",
    "                                     yr]], columns = cols)\n",
    "        df = df.append(temp, ignore_index = True)\n",
    "    \n",
    "    return df"
   ]
  },
  {
   "cell_type": "code",
   "execution_count": 3,
   "metadata": {},
   "outputs": [],
   "source": [
    "# define our empty data frame\n",
    "cols = ['Date', 'Player', 'Position', 'Nationality', 'Price', 'From', 'To', 'League', 'Year']\n",
    "df = pd.DataFrame(columns = cols)"
   ]
  },
  {
   "cell_type": "code",
   "execution_count": 4,
   "metadata": {},
   "outputs": [],
   "source": [
    "# create our league and year specific data frames, and all their associated URLs\n",
    "base_url = 'https://www.soccernews.com/soccer-transfers/'\n",
    "league_url = ['english-premier-league-transfers', \n",
    "              'italian-serie-a-transfers',\n",
    "              'spanish-la-liga-transfers',\n",
    "              'german-bundesliga-transfers']\n",
    "league_url = [base_url + i for i in league_url]\n",
    "yr_append = ['-2017-2018', '-2016-2017', '-2015-2016', '-2014-2015','-2013-2014', \n",
    "             '-2012-2013', '-2011-2012', '-2010-2011', '-2009-2010','-2008-2009', \n",
    "             '-2007-2008']\n",
    "league = ['EPL', 'Serie A', 'La Liga', 'Bundesliga']\n",
    "year = [str(i) for i in range(2018, 2008 - 1, -1)]"
   ]
  },
  {
   "cell_type": "code",
   "execution_count": 5,
   "metadata": {
    "scrolled": true
   },
   "outputs": [],
   "source": [
    "# create our year and league arrays to pass to our data-fetcher\n",
    "urls = [i + j for i in league_url for j in yr_append]\n",
    "year = year * len(league)\n",
    "league = np.repeat(league, len(yr_append))"
   ]
  },
  {
   "cell_type": "code",
   "execution_count": 6,
   "metadata": {
    "scrolled": false
   },
   "outputs": [
    {
     "name": "stdout",
     "output_type": "stream",
     "text": [
      "completed: EPL 2018\n",
      "completed: EPL 2017\n",
      "completed: EPL 2016\n",
      "completed: EPL 2015\n",
      "completed: EPL 2014\n",
      "completed: EPL 2013\n",
      "completed: EPL 2012\n",
      "completed: EPL 2011\n",
      "completed: EPL 2010\n",
      "completed: EPL 2009\n",
      "completed: EPL 2008\n",
      "completed: Serie A 2018\n",
      "completed: Serie A 2017\n",
      "completed: Serie A 2016\n",
      "completed: Serie A 2015\n",
      "completed: Serie A 2014\n",
      "completed: Serie A 2013\n",
      "completed: Serie A 2012\n",
      "completed: Serie A 2011\n",
      "completed: Serie A 2010\n",
      "completed: Serie A 2009\n",
      "completed: Serie A 2008\n",
      "completed: La Liga 2018\n",
      "completed: La Liga 2017\n",
      "completed: La Liga 2016\n",
      "completed: La Liga 2015\n",
      "completed: La Liga 2014\n",
      "completed: La Liga 2013\n",
      "completed: La Liga 2012\n",
      "completed: La Liga 2011\n",
      "completed: La Liga 2010\n",
      "completed: La Liga 2009\n",
      "completed: La Liga 2008\n",
      "completed: Bundesliga 2018\n",
      "completed: Bundesliga 2017\n",
      "completed: Bundesliga 2016\n",
      "completed: Bundesliga 2015\n",
      "completed: Bundesliga 2014\n",
      "completed: Bundesliga 2013\n",
      "\n",
      "complete\n"
     ]
    }
   ],
   "source": [
    "# fetch all our data and print out each league + year when done\n",
    "for i in range(len(urls)):\n",
    "    try:\n",
    "        df = fetch_data(url = urls[i],\n",
    "                        lg = league[i], \n",
    "                        yr = year[i], \n",
    "                        df = df, \n",
    "                        cols = cols)\n",
    "        print('completed:', league[i], year[i])\n",
    "    except:\n",
    "        pass\n",
    "print()\n",
    "print('complete')"
   ]
  },
  {
   "cell_type": "markdown",
   "metadata": {},
   "source": [
    "__Perfect!__\n",
    "\n",
    "Looks like we were able to get all the trades and years we wanted. Now let's combine this data with the stadium and results data pulls in the Transfer Analysis workbook to look at our data in a bit more detail"
   ]
  },
  {
   "cell_type": "code",
   "execution_count": null,
   "metadata": {},
   "outputs": [],
   "source": []
  }
 ],
 "metadata": {
  "kernelspec": {
   "display_name": "Python 3",
   "language": "python",
   "name": "python3"
  },
  "language_info": {
   "codemirror_mode": {
    "name": "ipython",
    "version": 3
   },
   "file_extension": ".py",
   "mimetype": "text/x-python",
   "name": "python",
   "nbconvert_exporter": "python",
   "pygments_lexer": "ipython3",
   "version": "3.6.8"
  }
 },
 "nbformat": 4,
 "nbformat_minor": 2
}
